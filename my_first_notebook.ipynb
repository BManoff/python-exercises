{
 "cells": [
  {
   "cell_type": "code",
   "execution_count": null,
   "id": "9132b21f",
   "metadata": {},
   "outputs": [],
   "source": [
    "b is the shortcut for opening a new field"
   ]
  },
  {
   "cell_type": "code",
   "execution_count": null,
   "id": "21b54236",
   "metadata": {},
   "outputs": [],
   "source": [
    "y = change cell to code"
   ]
  },
  {
   "cell_type": "markdown",
   "id": "2ad85e7f",
   "metadata": {},
   "source": [
    "m = change cell to markdown"
   ]
  },
  {
   "cell_type": "code",
   "execution_count": 1,
   "id": "140afdf1",
   "metadata": {},
   "outputs": [
    {
     "name": "stdout",
     "output_type": "stream",
     "text": [
      "hello world\n"
     ]
    }
   ],
   "source": [
    "print(\"hello world\")"
   ]
  },
  {
   "cell_type": "code",
   "execution_count": null,
   "id": "472ce2b4",
   "metadata": {},
   "outputs": [],
   "source": []
  }
 ],
 "metadata": {
  "kernelspec": {
   "display_name": "Python 3 (ipykernel)",
   "language": "python",
   "name": "python3"
  },
  "language_info": {
   "codemirror_mode": {
    "name": "ipython",
    "version": 3
   },
   "file_extension": ".py",
   "mimetype": "text/x-python",
   "name": "python",
   "nbconvert_exporter": "python",
   "pygments_lexer": "ipython3",
   "version": "3.9.12"
  }
 },
 "nbformat": 4,
 "nbformat_minor": 5
}
