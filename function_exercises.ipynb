{
 "cells": [
  {
   "cell_type": "code",
   "execution_count": 7,
   "metadata": {},
   "outputs": [
    {
     "data": {
      "text/plain": [
       "True"
      ]
     },
     "execution_count": 7,
     "metadata": {},
     "output_type": "execute_result"
    }
   ],
   "source": [
    "#1.) Define a function named is_two. \n",
    "# It should accept one input and return True if the passed input is either the number or the string 2, False otherwise.\n",
    "\n",
    "def is_two(x):\n",
    "    return x == 2 or x == \"2\"\n",
    "\n",
    "is_two(2)"
   ]
  },
  {
   "cell_type": "code",
   "execution_count": 25,
   "metadata": {},
   "outputs": [
    {
     "data": {
      "text/plain": [
       "True"
      ]
     },
     "execution_count": 25,
     "metadata": {},
     "output_type": "execute_result"
    }
   ],
   "source": [
    "#2.) Define a function named is_vowel. It should return True if the passed string is a vowel, False otherwise.\n",
    "\n",
    "def is_vowel(vowel):\n",
    "   if vowel in \"aeiou\":\n",
    "       return True\n",
    "   else:\n",
    "        return False\n",
    "\n",
    "\n",
    "is_vowel(\"a\")"
   ]
  },
  {
   "cell_type": "code",
   "execution_count": 28,
   "metadata": {},
   "outputs": [
    {
     "data": {
      "text/plain": [
       "True"
      ]
     },
     "execution_count": 28,
     "metadata": {},
     "output_type": "execute_result"
    }
   ],
   "source": [
    "#3.)Define a function named is_consonant. \n",
    "# It should return True if the passed string is a consonant, False otherwise. Use your is_vowel function to accomplish this.\n",
    "\n",
    "def is_consonant(consonant):\n",
    "   if consonant not in \"aeiou\":\n",
    "       return True\n",
    "   else:\n",
    "        return False\n",
    "\n",
    "is_consonant(\"b\")"
   ]
  },
  {
   "cell_type": "code",
   "execution_count": 38,
   "metadata": {},
   "outputs": [
    {
     "data": {
      "text/plain": [
       "False"
      ]
     },
     "execution_count": 38,
     "metadata": {},
     "output_type": "execute_result"
    }
   ],
   "source": [
    "#4.)Define a function that accepts a string that is a word.\n",
    "#  The function should capitalize the first letter of the word if the word starts with a consonant\n",
    "\n",
    "def is_a_word(word):\n",
    "    if type(word) != str:\n",
    "        return False\n",
    "    if word[0] not in \"aeiou\":\n",
    "       return word.capitalize()\n",
    "    else:\n",
    "        return word\n",
    "\n",
    "is_a_word(\"all\")\n"
   ]
  },
  {
   "cell_type": "code",
   "execution_count": 51,
   "metadata": {},
   "outputs": [
    {
     "data": {
      "text/plain": [
       "12.5"
      ]
     },
     "execution_count": 51,
     "metadata": {},
     "output_type": "execute_result"
    }
   ],
   "source": [
    "#5.) Define a function named calculate_tip.\n",
    "#  It should accept a tip percentage (a number between 0 and 1) and the bill total, and return the amount to tip.\n",
    "\n",
    "def calculate_tip(bill):\n",
    "    return bill * 0.25\n",
    "\n",
    "calculate_tip(50)"
   ]
  },
  {
   "cell_type": "code",
   "execution_count": 56,
   "metadata": {},
   "outputs": [
    {
     "data": {
      "text/plain": [
       "3.75"
      ]
     },
     "execution_count": 56,
     "metadata": {},
     "output_type": "execute_result"
    }
   ],
   "source": [
    "#6.) Define a function named apply_discount.\n",
    "#  It should accept a original price, and a discount percentage, and return the price after the discount is applied.\n",
    "\n",
    "def apply_discount(original, discount):\n",
    "    return original - (original * discount)\n",
    "\n",
    "apply_discount(5, 0.25)\n",
    "\n"
   ]
  },
  {
   "cell_type": "code",
   "execution_count": 6,
   "metadata": {},
   "outputs": [
    {
     "data": {
      "text/plain": [
       "'Hi how are you?'"
      ]
     },
     "execution_count": 6,
     "metadata": {},
     "output_type": "execute_result"
    }
   ],
   "source": [
    "#7.) Define a function named handle_commas.\n",
    "#  It should accept a string that is a number that contains commas in it as input, and return a number as output.\n",
    "\n",
    "def handle_commas(comma_string):\n",
    "    comma_string = comma_string.replace(\",\", \"\")\n",
    "    return comma_string\n",
    "    \n",
    "\n",
    "handle_commas(\"Hi, how are you?\")"
   ]
  },
  {
   "cell_type": "code",
   "execution_count": 7,
   "metadata": {},
   "outputs": [
    {
     "data": {
      "text/plain": [
       "'B'"
      ]
     },
     "execution_count": 7,
     "metadata": {},
     "output_type": "execute_result"
    }
   ],
   "source": [
    "#8.) Define a function named get_letter_grade.\n",
    "#  It should accept a number and return the letter grade associated with that number (A-F).\n",
    "\n",
    "def get_letter_grade(number):\n",
    "    if number >= 90:\n",
    "        return \"A\"\n",
    "    elif number >= 80:\n",
    "        return \"B\"\n",
    "    elif number >= 70: \n",
    "        return \"C\"\n",
    "    elif number >= 60: \n",
    "        return \"D\"\n",
    "    else:\n",
    "        return \"F\"\n",
    "\n",
    "get_letter_grade(82)"
   ]
  },
  {
   "cell_type": "code",
   "execution_count": 12,
   "metadata": {},
   "outputs": [
    {
     "data": {
      "text/plain": [
       "'H hw r y dng?'"
      ]
     },
     "execution_count": 12,
     "metadata": {},
     "output_type": "execute_result"
    }
   ],
   "source": [
    "#9.) Define a function named remove_vowels that accepts a string and returns a string with all the vowels removed\n",
    "\n",
    "def is_vowel(vowel):\n",
    "  vowel = vowel.lower()\n",
    "  return vowel == \"a\" or vowel == \"e\" or vowel == \"i\" or vowel == \"o\" or vowel == \"u\"\n",
    "\n",
    "\n",
    "def remove_vowels(astring):\n",
    "  for character in astring:\n",
    "    if is_vowel(character):\n",
    "       astring = astring.replace(character, \"\")\n",
    "\n",
    "  return astring\n",
    "\n",
    "remove_vowels(\"Hi how are you doing?\")"
   ]
  },
  {
   "cell_type": "code",
   "execution_count": 29,
   "metadata": {},
   "outputs": [
    {
     "data": {
      "text/plain": [
       "'hot_sauce'"
      ]
     },
     "execution_count": 29,
     "metadata": {},
     "output_type": "execute_result"
    }
   ],
   "source": [
    "#10.) Define a function named normalize_name. It should accept a string and return a valid python identifier\n",
    "\n",
    "def remove_special_char(string):\n",
    "    return ''.join([c for c in string if c.isalnum() or c == ' '])\n",
    "\n",
    "def normalize_name(name):\n",
    "    special_char_removed = remove_special_char(name)\n",
    "    return special_char_removed.lower().strip().replace(\" \", \"_\")\n",
    "    \n",
    "\n",
    "normalize_name(\" % Hot sauce\")\n"
   ]
  },
  {
   "cell_type": "code",
   "execution_count": 39,
   "metadata": {},
   "outputs": [
    {
     "data": {
      "text/plain": [
       "[1, 2, 3]"
      ]
     },
     "execution_count": 39,
     "metadata": {},
     "output_type": "execute_result"
    }
   ],
   "source": [
    "#11.) Write a function named cumulative_sum that accepts a list of numbers\n",
    "#     and returns a list that is the cumulative sum of the numbers in the list.\n",
    "def cumulative_sum(nums):\n",
    "    output = []\n",
    "    total = 0\n",
    "    for num in nums:\n",
    "        total += num \n",
    "        output.append(total)\n",
    "    return output\n",
    "\n",
    "cumulative_sum([1, 1, 1])"
   ]
  }
 ],
 "metadata": {
  "interpreter": {
   "hash": "38cca0c38332a56087b24af0bc80247f4fced29cb4f7f437d91dc159adec9c4e"
  },
  "kernelspec": {
   "display_name": "Python 3.9.12 ('base')",
   "language": "python",
   "name": "python3"
  },
  "language_info": {
   "codemirror_mode": {
    "name": "ipython",
    "version": 3
   },
   "file_extension": ".py",
   "mimetype": "text/x-python",
   "name": "python",
   "nbconvert_exporter": "python",
   "pygments_lexer": "ipython3",
   "version": "3.9.12"
  },
  "orig_nbformat": 4
 },
 "nbformat": 4,
 "nbformat_minor": 2
}
