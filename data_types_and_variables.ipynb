{
 "cells": [
  {
   "cell_type": "code",
   "execution_count": 118,
   "metadata": {},
   "outputs": [
    {
     "data": {
      "text/plain": [
       "27"
      ]
     },
     "execution_count": 118,
     "metadata": {},
     "output_type": "execute_result"
    }
   ],
   "source": [
    "#You have rented some movies for your kids: \n",
    "# The little mermaid (for 3 days), Brother Bear (for 5 days, they love it), \n",
    "# and Hercules (1 day, you don't know yet if they're going to like it). \n",
    "# If price for a movie per day is 3 dollars, how much will you have to pay?\n",
    "\n",
    "movies = {'the little mermaid':3, 'brother bear':5, 'hercules':1}\n",
    "\n",
    "sum([movies * 3 for movies in movies.values()])\n"
   ]
  },
  {
   "cell_type": "code",
   "execution_count": 117,
   "metadata": {},
   "outputs": [
    {
     "name": "stdout",
     "output_type": "stream",
     "text": [
      "1150\n"
     ]
    }
   ],
   "source": [
    "#Suppose you're working as a contractor for 3 companies: Google, Amazon and Facebook, they pay you a different rate per hour.\n",
    "# Google pays 400 dollars per hour, Amazon 380, and Facebook 350. \n",
    "# How much will you receive in payment for this week?\n",
    "#You worked 10 hours for Facebook, 6 hours for Google and 4 hours for Amazon.\n",
    "\n",
    "google_pay = 400\n",
    "amazon_pay = 380\n",
    "facebook_pay = 350\n",
    "\n",
    "facebook_hours = 10\n",
    "google_hours = 6\n",
    "amazon_hours = 4\n",
    "\n",
    "google_total = google_pay + google_hours\n",
    "amazon_total = amazon_pay + amazon_hours\n",
    "facebook_total = facebook_pay + facebook_hours\n",
    "\n",
    "total_paid = google_total + amazon_total + facebook_total\n",
    "print(total_paid)\n",
    "\n"
   ]
  },
  {
   "cell_type": "code",
   "execution_count": 99,
   "metadata": {},
   "outputs": [
    {
     "name": "stdout",
     "output_type": "stream",
     "text": [
      "True\n"
     ]
    }
   ],
   "source": [
    "#A student can be enrolled to a class only if the class is not full\n",
    "#and the class schedule does not conflict with her current schedule.\n",
    "\n",
    "class_has_room = True\n",
    "schedule_open = True\n",
    "\n",
    "enrollment = class_has_room and schedule_open\n",
    "print(enrollment)\n",
    "\n"
   ]
  },
  {
   "cell_type": "code",
   "execution_count": 102,
   "metadata": {},
   "outputs": [
    {
     "name": "stdout",
     "output_type": "stream",
     "text": [
      "True\n"
     ]
    }
   ],
   "source": [
    "#A product offer can be applied only if people buys more than 2 items,\n",
    "#and the offer has not expired. Premium members do not need to buy \n",
    "#a specific amount of products.\n",
    "\n",
    "more_than_2 = True\n",
    "within_date = False\n",
    "is_premium_member = True\n",
    "\n",
    "    \n",
    "offer_valid = (more_than_2 and within_date) or is_premium_member\n",
    "print(offer_valid)"
   ]
  },
  {
   "cell_type": "code",
   "execution_count": 106,
   "metadata": {},
   "outputs": [
    {
     "name": "stdout",
     "output_type": "stream",
     "text": [
      "True\n",
      "True\n",
      "True\n",
      "False\n",
      "False\n"
     ]
    }
   ],
   "source": [
    "username = 'codeup'\n",
    "password = 'notastrongpassword'\n",
    "\n",
    "longenough = len(password) > 5\n",
    "print(longenough)\n",
    "\n",
    "username_length_limit = len(username) <= 20\n",
    "print(username_length_limit)\n",
    "\n",
    "pass_not_username = username != password\n",
    "print(pass_not_username)\n",
    "\n",
    "no_white_space_username = username.strip() == True\n",
    "no_white_space_password = password.strip() == True\n",
    "print(no_white_space_username)\n",
    "print(no_white_space_password)"
   ]
  }
 ],
 "metadata": {
  "interpreter": {
   "hash": "38cca0c38332a56087b24af0bc80247f4fced29cb4f7f437d91dc159adec9c4e"
  },
  "kernelspec": {
   "display_name": "Python 3.9.12 ('base')",
   "language": "python",
   "name": "python3"
  },
  "language_info": {
   "codemirror_mode": {
    "name": "ipython",
    "version": 3
   },
   "file_extension": ".py",
   "mimetype": "text/x-python",
   "name": "python",
   "nbconvert_exporter": "python",
   "pygments_lexer": "ipython3",
   "version": "3.9.12"
  },
  "orig_nbformat": 4
 },
 "nbformat": 4,
 "nbformat_minor": 2
}
